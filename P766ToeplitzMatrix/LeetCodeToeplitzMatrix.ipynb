{
 "cells": [
  {
   "cell_type": "code",
   "execution_count": 1,
   "metadata": {},
   "outputs": [],
   "source": [
    "testMatrixOne = [[1,2,3,4],[5,1,2,3],[9,5,1,2]]"
   ]
  },
  {
   "cell_type": "code",
   "execution_count": 66,
   "metadata": {},
   "outputs": [
    {
     "data": {
      "text/plain": [
       "[[1, 2, 3, 4], [5, 1, 2, 3], [9, 5, 1, 2]]"
      ]
     },
     "execution_count": 66,
     "metadata": {},
     "output_type": "execute_result"
    }
   ],
   "source": [
    "testMatrixOne"
   ]
  },
  {
   "cell_type": "code",
   "execution_count": 18,
   "metadata": {},
   "outputs": [
    {
     "name": "stdout",
     "output_type": "stream",
     "text": [
      "[1, 2, 3, 4]\n",
      "[5, 1, 2, 3]\n",
      "[9, 5, 1, 2]\n"
     ]
    }
   ],
   "source": [
    "print testMatrixOne[0]\n",
    "print testMatrixOne[1]\n",
    "print testMatrixOne[2]"
   ]
  },
  {
   "cell_type": "code",
   "execution_count": 67,
   "metadata": {},
   "outputs": [
    {
     "data": {
      "text/plain": [
       "list"
      ]
     },
     "execution_count": 67,
     "metadata": {},
     "output_type": "execute_result"
    }
   ],
   "source": [
    "type(testMatrixOne)"
   ]
  },
  {
   "cell_type": "code",
   "execution_count": 68,
   "metadata": {},
   "outputs": [
    {
     "data": {
      "text/plain": [
       "list"
      ]
     },
     "execution_count": 68,
     "metadata": {},
     "output_type": "execute_result"
    }
   ],
   "source": [
    "type(testMatrixOne[0])"
   ]
  },
  {
   "cell_type": "code",
   "execution_count": 60,
   "metadata": {},
   "outputs": [],
   "source": [
    "def isToeplitzMatrix(matrix):\n",
    "    \"\"\"\n",
    "    :type matrix: List[List[int]]\n",
    "    :rtype: bool\n",
    "    \"\"\" \n",
    "    if len(matrix) <= 1:\n",
    "        return False\n",
    "    \n",
    "    # assume square matrix \n",
    "    nCols = len(matrix[0])\n",
    "    rightBoundary = nCols - 1\n",
    "\n",
    "    for j in range(1, len(matrix)):\n",
    "        currRowSubset = matrix[j][1:]\n",
    "        prevRowSubset = matrix[j - 1][0:rightBoundary]\n",
    "        if currRowSubset != prevRowSubset:\n",
    "            return False\n",
    "        \n",
    "    return True"
   ]
  },
  {
   "cell_type": "code",
   "execution_count": 69,
   "metadata": {},
   "outputs": [
    {
     "name": "stdout",
     "output_type": "stream",
     "text": [
      "currRow = [5, 1, 2, 3]\n",
      "currRowSubset = [1, 2, 3]\n",
      "****prevRowSubset = [1, 2, 3]\n",
      "--------\n",
      "\n",
      "currRow = [9, 5, 1, 2]\n",
      "currRowSubset = [5, 1, 2]\n",
      "****prevRowSubset = [5, 1, 2]\n",
      "--------\n",
      "\n"
     ]
    },
    {
     "data": {
      "text/plain": [
       "True"
      ]
     },
     "execution_count": 69,
     "metadata": {},
     "output_type": "execute_result"
    }
   ],
   "source": [
    "isToeplitzMatrix(testMatrixOne)"
   ]
  },
  {
   "cell_type": "code",
   "execution_count": 42,
   "metadata": {},
   "outputs": [],
   "source": [
    "testMatrixTwo = [[1,2],[2,2]]"
   ]
  },
  {
   "cell_type": "code",
   "execution_count": 62,
   "metadata": {},
   "outputs": [
    {
     "name": "stdout",
     "output_type": "stream",
     "text": [
      "currRow = [2, 2]\n",
      "currRowSubset = [2]\n",
      "****prevRowSubset = [1]\n",
      "--------\n",
      "\n"
     ]
    },
    {
     "data": {
      "text/plain": [
       "False"
      ]
     },
     "execution_count": 62,
     "metadata": {},
     "output_type": "execute_result"
    }
   ],
   "source": [
    "isToeplitzMatrix(testMatrixTwo)"
   ]
  },
  {
   "cell_type": "code",
   "execution_count": 44,
   "metadata": {},
   "outputs": [],
   "source": [
    "testMatrixThree = [[36,59,71,15,26,82,87],[56,36,59,71,15,26,82],[15,0,36,59,71,15,26]]"
   ]
  },
  {
   "cell_type": "code",
   "execution_count": 45,
   "metadata": {},
   "outputs": [
    {
     "name": "stdout",
     "output_type": "stream",
     "text": [
      "[[36, 59, 71, 15, 26, 82, 87], [56, 36, 59, 71, 15, 26, 82], [15, 0, 36, 59, 71, 15, 26]]\n"
     ]
    }
   ],
   "source": [
    "print testMatrixThree"
   ]
  },
  {
   "cell_type": "code",
   "execution_count": 46,
   "metadata": {},
   "outputs": [
    {
     "name": "stdout",
     "output_type": "stream",
     "text": [
      "[36, 59, 71, 15, 26, 82, 87]\n",
      "[56, 36, 59, 71, 15, 26, 82]\n",
      "[15, 0, 36, 59, 71, 15, 26]\n"
     ]
    }
   ],
   "source": [
    "print testMatrixThree[0]\n",
    "print testMatrixThree[1]\n",
    "print testMatrixThree[2]"
   ]
  },
  {
   "cell_type": "code",
   "execution_count": 63,
   "metadata": {},
   "outputs": [
    {
     "name": "stdout",
     "output_type": "stream",
     "text": [
      "currRow = [56, 36, 59, 71, 15, 26, 82]\n",
      "currRowSubset = [36, 59, 71, 15, 26, 82]\n",
      "****prevRowSubset = [36, 59, 71, 15, 26, 82]\n",
      "--------\n",
      "\n",
      "currRow = [15, 0, 36, 59, 71, 15, 26]\n",
      "currRowSubset = [0, 36, 59, 71, 15, 26]\n",
      "****prevRowSubset = [56, 36, 59, 71, 15, 26]\n",
      "--------\n",
      "\n"
     ]
    },
    {
     "data": {
      "text/plain": [
       "False"
      ]
     },
     "execution_count": 63,
     "metadata": {},
     "output_type": "execute_result"
    }
   ],
   "source": [
    "isToeplitzMatrix(testMatrixThree)"
   ]
  },
  {
   "cell_type": "code",
   "execution_count": null,
   "metadata": {},
   "outputs": [],
   "source": []
  }
 ],
 "metadata": {
  "kernelspec": {
   "display_name": "Python 2",
   "language": "python",
   "name": "python2"
  },
  "language_info": {
   "codemirror_mode": {
    "name": "ipython",
    "version": 2
   },
   "file_extension": ".py",
   "mimetype": "text/x-python",
   "name": "python",
   "nbconvert_exporter": "python",
   "pygments_lexer": "ipython2",
   "version": "2.7.14"
  }
 },
 "nbformat": 4,
 "nbformat_minor": 2
}
