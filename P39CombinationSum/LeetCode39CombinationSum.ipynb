{
 "cells": [
  {
   "cell_type": "code",
   "execution_count": 2,
   "metadata": {},
   "outputs": [],
   "source": [
    "def containsDuplicates(inArray):\n",
    "    testArray = []\n",
    "    \n",
    "    for q in range(0, len(inArray)):\n",
    "        if not inArray[q] in testArray:\n",
    "            testArray.append(inArray[q])\n",
    "    \n",
    "    if sorted(testArray) == sorted(inArray):\n",
    "        return False\n",
    "    else:\n",
    "        return True\n"
   ]
  },
  {
   "cell_type": "code",
   "execution_count": 3,
   "metadata": {},
   "outputs": [
    {
     "data": {
      "text/plain": [
       "False"
      ]
     },
     "execution_count": 3,
     "metadata": {},
     "output_type": "execute_result"
    }
   ],
   "source": [
    "containsDuplicates([3, 4, 7, 8, 13, 921])"
   ]
  },
  {
   "cell_type": "code",
   "execution_count": 4,
   "metadata": {},
   "outputs": [],
   "source": [
    "def combinationSumHelper(res, tmpList, index, candidates, target):\n",
    "    if target < 0:\n",
    "        return\n",
    "    if target == 0:\n",
    "        res.append(tmpList)\n",
    "        return\n",
    "    \n",
    "    for q in range(index, len(candidates)):\n",
    "        combinationSumHelper(res, tmpList + [candidates[q]], q, candidates, target - candidates[q])"
   ]
  },
  {
   "cell_type": "code",
   "execution_count": 5,
   "metadata": {},
   "outputs": [],
   "source": [
    "def combinationSum(candidates, target):\n",
    "    ####  assume there is only\n",
    "    if  containsDuplicates(candidates):\n",
    "        raise ValueError(\"Input candidate list contains duplicates\")\n",
    "\n",
    "    candidates.sort()\n",
    "    combs = []\n",
    "    tempList = []\n",
    "    combinationSumHelper(combs, tempList, 0, candidates, target)\n",
    "    \n",
    "    return combs"
   ]
  },
  {
   "cell_type": "code",
   "execution_count": 7,
   "metadata": {},
   "outputs": [
    {
     "data": {
      "text/plain": [
       "[[2, 2, 2, 2, 2, 5], [5, 5, 5]]"
      ]
     },
     "execution_count": 7,
     "metadata": {},
     "output_type": "execute_result"
    }
   ],
   "source": [
    "combinationSum([2,5], target = 15)"
   ]
  },
  {
   "cell_type": "code",
   "execution_count": null,
   "metadata": {},
   "outputs": [],
   "source": []
  }
 ],
 "metadata": {
  "kernelspec": {
   "display_name": "Python 2",
   "language": "python",
   "name": "python2"
  },
  "language_info": {
   "codemirror_mode": {
    "name": "ipython",
    "version": 2
   },
   "file_extension": ".py",
   "mimetype": "text/x-python",
   "name": "python",
   "nbconvert_exporter": "python",
   "pygments_lexer": "ipython2",
   "version": "2.7.14"
  }
 },
 "nbformat": 4,
 "nbformat_minor": 2
}
