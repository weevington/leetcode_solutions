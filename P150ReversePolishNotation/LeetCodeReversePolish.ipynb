{
 "cells": [
  {
   "cell_type": "code",
   "execution_count": 44,
   "metadata": {},
   "outputs": [],
   "source": [
    "def add(a, b):\n",
    "    return a + b\n",
    "\n",
    "def multiply(a, b):\n",
    "    return a * b\n",
    "\n",
    "def subtract(a, b):\n",
    "    return a - b\n",
    "\n",
    "def divide(a, b):\n",
    "    if b == 0:\n",
    "        raise ValueError(\"ERROR:: Dividing by zero.\")\n",
    "    return int(float(a)/float(b))\n",
    "\n",
    "def evalRPN(tokens):\n",
    "    \"\"\"\n",
    "    :type tokens: List[str]\n",
    "    :rtype: int\n",
    "    \"\"\"\n",
    "    if len(tokens) == 0:\n",
    "        return 0\n",
    "    \n",
    "    numStack = []\n",
    "    arithmeticOperators = [\"+\", \"-\", \"/\", \"*\"]\n",
    "    \n",
    "    if tokens[0] in arithmeticOperators:\n",
    "        raise ValueError(\"ERROR:: First element of tokens must be a number\")\n",
    "    \n",
    "    for j, tok in enumerate(tokens):\n",
    "        if (not (tok in arithmeticOperators)) and isinstance(int(tok), int):\n",
    "            numStack.append(int(tok))\n",
    "        elif isinstance(tok, str) and (tok in arithmeticOperators):\n",
    "            if len(numStack) >= 2:\n",
    "                stackFront = numStack.pop()\n",
    "                stackSecond = numStack.pop()\n",
    "                if tok == \"+\":\n",
    "                    numStack.append(add(stackSecond, stackFront))\n",
    "                elif tok == \"-\":\n",
    "                    numStack.append(subtract(stackSecond, stackFront))\n",
    "                elif tok == \"*\":\n",
    "                    numStack.append(multiply(stackFront, stackSecond))\n",
    "                elif tok == \"/\":\n",
    "                    numStack.append(divide(stackSecond, stackFront))\n",
    "        else:\n",
    "            raise TypeError(\"ERROR:: Token encountered is not of type string or integer.\")\n",
    "    \n",
    "    return numStack.pop()"
   ]
  },
  {
   "cell_type": "code",
   "execution_count": 41,
   "metadata": {},
   "outputs": [
    {
     "data": {
      "text/plain": [
       "9"
      ]
     },
     "execution_count": 41,
     "metadata": {},
     "output_type": "execute_result"
    }
   ],
   "source": [
    "evalRPN([\"2\", \"1\", \"+\", \"3\", \"*\"])"
   ]
  },
  {
   "cell_type": "code",
   "execution_count": 42,
   "metadata": {},
   "outputs": [
    {
     "data": {
      "text/plain": [
       "6"
      ]
     },
     "execution_count": 42,
     "metadata": {},
     "output_type": "execute_result"
    }
   ],
   "source": [
    "evalRPN([\"4\", \"13\", \"5\", \"/\", \"+\"])"
   ]
  },
  {
   "cell_type": "code",
   "execution_count": 45,
   "metadata": {},
   "outputs": [
    {
     "data": {
      "text/plain": [
       "22"
      ]
     },
     "execution_count": 45,
     "metadata": {},
     "output_type": "execute_result"
    }
   ],
   "source": [
    "evalRPN([\"10\", \"6\", \"9\", \"3\", \"+\", \"-11\", \"*\", \"/\", \"*\", \"17\", \"+\", \"5\", \"+\"])"
   ]
  },
  {
   "cell_type": "code",
   "execution_count": 46,
   "metadata": {},
   "outputs": [
    {
     "data": {
      "text/plain": [
       "9"
      ]
     },
     "execution_count": 46,
     "metadata": {},
     "output_type": "execute_result"
    }
   ],
   "source": [
    "evalRPN([\"2\",\"1\",\"+\",\"3\",\"*\"])"
   ]
  },
  {
   "cell_type": "code",
   "execution_count": null,
   "metadata": {},
   "outputs": [],
   "source": []
  }
 ],
 "metadata": {
  "kernelspec": {
   "display_name": "Python 2",
   "language": "python",
   "name": "python2"
  },
  "language_info": {
   "codemirror_mode": {
    "name": "ipython",
    "version": 2
   },
   "file_extension": ".py",
   "mimetype": "text/x-python",
   "name": "python",
   "nbconvert_exporter": "python",
   "pygments_lexer": "ipython2",
   "version": "2.7.14"
  }
 },
 "nbformat": 4,
 "nbformat_minor": 2
}
