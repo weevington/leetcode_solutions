{
 "cells": [
  {
   "cell_type": "code",
   "execution_count": 5,
   "metadata": {},
   "outputs": [],
   "source": [
    "def containsDuplicates(inArray):\n",
    "    testArray = []\n",
    "    \n",
    "    for q in range(0, len(inArray)):\n",
    "        if not inArray[q] in testArray:\n",
    "            testArray.append(inArray[q])\n",
    "    \n",
    "    if sorted(testArray) == sorted(inArray):\n",
    "        return False\n",
    "    else:\n",
    "        return True\n"
   ]
  },
  {
   "cell_type": "code",
   "execution_count": 8,
   "metadata": {},
   "outputs": [
    {
     "data": {
      "text/plain": [
       "False"
      ]
     },
     "execution_count": 8,
     "metadata": {},
     "output_type": "execute_result"
    }
   ],
   "source": [
    "containsDuplicates([3, 4, 7, 8, 13, 921])"
   ]
  },
  {
   "cell_type": "code",
   "execution_count": 78,
   "metadata": {},
   "outputs": [],
   "source": [
    "def combinationSumHelper(res, tmpList, index, candidates, target):\n",
    "    if target < 0:\n",
    "        return\n",
    "    if target == 0:\n",
    "        res.append(tmpList)\n",
    "        return\n",
    "    \n",
    "    for q in range(index, len(candidates)):\n",
    "        combinationSumHelper(res, tmpList + [candidates[q]], q, candidates, target - candidates[q])"
   ]
  },
  {
   "cell_type": "code",
   "execution_count": 79,
   "metadata": {},
   "outputs": [],
   "source": [
    "def combinationSum(candidates, target):\n",
    "    ####  assume there is only\n",
    "    if  containsDuplicates(candidates):\n",
    "        raise ValueError(\"Input candidate list contains duplicates\")\n",
    "\n",
    "    candidates.sort()\n",
    "    combs = []\n",
    "    tempList = []\n",
    "    combinationSumHelper(combs, tempList, 0, candidates, target)\n",
    "    \n",
    "    return combs"
   ]
  },
  {
   "cell_type": "code",
   "execution_count": 83,
   "metadata": {},
   "outputs": [
    {
     "data": {
      "text/plain": [
       "[[5, 5, 5, 5, 5, 5, 5, 5, 5, 5],\n",
       " [5, 5, 5, 5, 5, 5, 5, 5, 10],\n",
       " [5, 5, 5, 5, 5, 5, 10, 10],\n",
       " [5, 5, 5, 5, 5, 25],\n",
       " [5, 5, 5, 5, 10, 10, 10],\n",
       " [5, 5, 5, 10, 25],\n",
       " [5, 5, 10, 10, 10, 10],\n",
       " [5, 10, 10, 25],\n",
       " [10, 10, 10, 10, 10],\n",
       " [25, 25]]"
      ]
     },
     "execution_count": 83,
     "metadata": {},
     "output_type": "execute_result"
    }
   ],
   "source": [
    "combinationSum([5,10,25], target = 50)"
   ]
  },
  {
   "cell_type": "code",
   "execution_count": null,
   "metadata": {},
   "outputs": [],
   "source": []
  }
 ],
 "metadata": {
  "kernelspec": {
   "display_name": "Python 2",
   "language": "python",
   "name": "python2"
  },
  "language_info": {
   "codemirror_mode": {
    "name": "ipython",
    "version": 2
   },
   "file_extension": ".py",
   "mimetype": "text/x-python",
   "name": "python",
   "nbconvert_exporter": "python",
   "pygments_lexer": "ipython2",
   "version": "2.7.14"
  }
 },
 "nbformat": 4,
 "nbformat_minor": 2
}
